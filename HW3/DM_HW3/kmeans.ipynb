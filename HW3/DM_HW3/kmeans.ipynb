{
 "cells": [
  {
   "cell_type": "code",
   "execution_count": 9,
   "id": "66c7dfb7",
   "metadata": {},
   "outputs": [],
   "source": [
    "import pandas as pd\n",
    "import numpy as np\n",
    "import math\n",
    "import random\n"
   ]
  },
  {
   "cell_type": "code",
   "execution_count": 26,
   "id": "dbdd5f2f",
   "metadata": {},
   "outputs": [],
   "source": [
    "# important functions\n",
    "def read_csv(file)->pd.DataFrame:\n",
    "    # read csv file from pandas\n",
    "    df = pd.read_csv(file)\n",
    "    # convert to numpy array \n",
    "    df = df.to_numpy()\n",
    "    return df\n",
    "def cosine_similarity(x,y)-> int : \n",
    "    # calculate cosine similatity of two point\n",
    "    size_x=x[0]**2+x[1]**2\n",
    "    size_y=y[0]**2+y[1]**2\n",
    "    numarator=x[0]*y[0]+x[1]*y[1]\n",
    "    return numarator / (math.sqrt(size_x)*math.sqrt(size_y))\n",
    "\n",
    "def eucilidean_distance(x,y)->int:\n",
    "    # calculate euclidiean distance of two point \n",
    "    return math.sqrt(sum( (x[i]-y[i])**2 for i in range(2)))\n",
    "    \n",
    "def similarity_vector (dataset,type=None)-> np.array :\n",
    "    lentgh = len(dataset)\n",
    "    sim_vector=np.zeros([lentgh,lentgh] , dtype=float)\n",
    "    for i in range(lentgh):\n",
    "        for j in range (lentgh):\n",
    "            if(type == \"cosine\"):\n",
    "                sim_vector[i][j] = cosine_similarity(dataset[i],dataset[j])\n",
    "            else:\n",
    "                sim_vector[i][j]=eucilidean_distance(dataset[i],dataset[j])\n",
    "    return sim_vector    \n"
   ]
  },
  {
   "cell_type": "code",
   "execution_count": 27,
   "id": "76a52cf5",
   "metadata": {},
   "outputs": [],
   "source": [
    "# read data\n",
    "df=read_csv('data.csv')\n",
    "sim_vec_cosine=similarity_vector(df,\"cosine\")\n",
    "sim_vec_euc=similarity_vector(df)"
   ]
  },
  {
   "cell_type": "code",
   "execution_count": 28,
   "id": "51f790c0",
   "metadata": {},
   "outputs": [
    {
     "data": {
      "text/plain": [
       "array([[1.        , 0.99985238, 0.99604997, ..., 0.94266984, 0.72007789,\n",
       "        0.68925746],\n",
       "       [0.99985238, 1.        , 0.99742859, ..., 0.94826473, 0.73189397,\n",
       "        0.70160425],\n",
       "       [0.99604997, 0.99742859, 1.        , ..., 0.96857935, 0.77884743,\n",
       "        0.75086792],\n",
       "       ...,\n",
       "       [0.94266984, 0.94826473, 0.96857935, ..., 1.        , 0.91036648,\n",
       "        0.89153278],\n",
       "       [0.72007789, 0.73189397, 0.77884743, ..., 0.91036648, 1.        ,\n",
       "        0.99905616],\n",
       "       [0.68925746, 0.70160425, 0.75086792, ..., 0.89153278, 0.99905616,\n",
       "        1.        ]])"
      ]
     },
     "execution_count": 28,
     "metadata": {},
     "output_type": "execute_result"
    }
   ],
   "source": [
    "sim_vec_cosine"
   ]
  },
  {
   "cell_type": "code",
   "execution_count": 29,
   "id": "2a856315",
   "metadata": {},
   "outputs": [
    {
     "data": {
      "text/plain": [
       "array([[ 0.        ,  2.23606798, 49.03060269, ..., 25.07987241,\n",
       "        38.01315562, 44.38468204],\n",
       "       [ 2.23606798,  0.        , 46.87216658, ..., 23.40939982,\n",
       "        38.41874542, 46.09772229],\n",
       "       [49.03060269, 46.87216658,  0.        , ..., 40.16217126,\n",
       "        73.08214556, 91.00549434],\n",
       "       ...,\n",
       "       [25.07987241, 23.40939982, 40.16217126, ...,  0.        ,\n",
       "        32.984845  , 54.34151268],\n",
       "       [38.01315562, 38.41874542, 73.08214556, ..., 32.984845  ,\n",
       "         0.        , 29.        ],\n",
       "       [44.38468204, 46.09772229, 91.00549434, ..., 54.34151268,\n",
       "        29.        ,  0.        ]])"
      ]
     },
     "execution_count": 29,
     "metadata": {},
     "output_type": "execute_result"
    }
   ],
   "source": [
    "sim_vec_euc"
   ]
  },
  {
   "cell_type": "code",
   "execution_count": 32,
   "id": "d2e13abe",
   "metadata": {},
   "outputs": [
    {
     "data": {
      "text/plain": [
       "[[82, 93], [87, 97], [26, 40], [73, 41]]"
      ]
     },
     "execution_count": 32,
     "metadata": {},
     "output_type": "execute_result"
    }
   ],
   "source": [
    "# kmeans \n",
    "\n",
    "def should_stop(data_set,old,new,iteration,type):\n",
    "    # stop function for kmeans\n",
    "    if (old is None):\n",
    "        return False\n",
    "    if iteration > 400 :\n",
    "        return True\n",
    "    sum=0\n",
    "    if (type != \"cosine\"):\n",
    "        for i,j in zip(old,new):\n",
    "            distance= eucilidean_distance(data_set[i],data_set[j])\n",
    "            sum += distance\n",
    "        if distance < 1:\n",
    "            return True\n",
    "    else:\n",
    "        for i,j in zip(old,new):\n",
    "            sim= cosine_similarity(data_set[i],data_set[j])\n",
    "            sum += sim\n",
    "        if sim > 3.5:\n",
    "            return True\n",
    "    \n",
    "    return False\n",
    "def get_random_centroids(num_feautres,k):\n",
    "    centroids=[]\n",
    "    for i in range (k):\n",
    "        centroids.append([random.randint(0,135),random.randint(0,160)])\n",
    "    return centroids\n",
    "def get_labes (data_set,centroids,type= None):\n",
    "    labels={}\n",
    "    for i in data_set :\n",
    "        if (type == \"cosine\"):\n",
    "            value=-1\n",
    "            centroid= -1\n",
    "            for j in centroids:\n",
    "                similarity = cosine_similarity (data_set[i],centroids[j])\n",
    "                if(similarity > value):\n",
    "                    value =similarity\n",
    "                    centroid = j \n",
    "            labels[i]= centroid\n",
    "        else: \n",
    "            value=1000\n",
    "            centroid= -1\n",
    "            for j in centroids:\n",
    "                similarity = eucilidean_distance (data_set[i],centroids[j])\n",
    "                if(similarity <value):\n",
    "                    value =similarity\n",
    "                    centroid = j \n",
    "            labels[i]=centroid\n",
    "    return labels\n",
    "\n",
    "        \n",
    "       \n",
    "                           \n",
    "                \n",
    "    \n",
    "    "
   ]
  },
  {
   "cell_type": "code",
   "execution_count": null,
   "id": "e8b1c8ce",
   "metadata": {},
   "outputs": [],
   "source": []
  },
  {
   "cell_type": "code",
   "execution_count": null,
   "id": "bc4e7501",
   "metadata": {},
   "outputs": [],
   "source": []
  }
 ],
 "metadata": {
  "kernelspec": {
   "display_name": "Python 3 (ipykernel)",
   "language": "python",
   "name": "python3"
  },
  "language_info": {
   "codemirror_mode": {
    "name": "ipython",
    "version": 3
   },
   "file_extension": ".py",
   "mimetype": "text/x-python",
   "name": "python",
   "nbconvert_exporter": "python",
   "pygments_lexer": "ipython3",
   "version": "3.8.10"
  }
 },
 "nbformat": 4,
 "nbformat_minor": 5
}
