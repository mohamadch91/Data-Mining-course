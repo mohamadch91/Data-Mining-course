{
 "cells": [
  {
   "cell_type": "code",
   "execution_count": 43,
   "id": "66c7dfb7",
   "metadata": {},
   "outputs": [],
   "source": [
    "import pandas as pd\n",
    "import numpy as np\n",
    "import math\n",
    "import random\n",
    "import matplotlib.pyplot  as plt "
   ]
  },
  {
   "cell_type": "code",
   "execution_count": 44,
   "id": "dbdd5f2f",
   "metadata": {},
   "outputs": [],
   "source": [
    "# important functions\n",
    "def read_csv(file)->pd.DataFrame:\n",
    "    # read csv file from pandas\n",
    "    df = pd.read_csv(file)\n",
    "    # convert to numpy array \n",
    "    df = df.to_numpy()\n",
    "    return df\n",
    "def cosine_similarity(x,y)-> int : \n",
    "    # calculate cosine similatity of two point\n",
    "    size_x=x[0]**2+x[1]**2\n",
    "    size_y=y[0]**2+y[1]**2\n",
    "    numarator=x[0]*y[0]+x[1]*y[1]\n",
    "    return numarator / (math.sqrt(size_x)*math.sqrt(size_y))\n",
    "\n",
    "def eucilidean_distance(x,y)->int:\n",
    "    # calculate euclidiean distance of two point \n",
    "    return 1/(1+(math.sqrt(sum( (x[i]-y[i])**2 for i in range(2)))))\n",
    "    \n",
    "def similarity_vector (dataset,type=None)-> np.array :\n",
    "    lentgh = len(dataset)\n",
    "    sim_vector=np.zeros([lentgh,lentgh] , dtype=float)\n",
    "    for i in range(lentgh):\n",
    "        for j in range (lentgh):\n",
    "            if(type == \"cosine\"):\n",
    "                sim_vector[i][j] = cosine_similarity(dataset[i],dataset[j])\n",
    "            else:\n",
    "                sim_vector[i][j]=eucilidean_distance(dataset[i],dataset[j])\n",
    "    return sim_vector    \n"
   ]
  },
  {
   "cell_type": "code",
   "execution_count": 45,
   "id": "76a52cf5",
   "metadata": {},
   "outputs": [],
   "source": [
    "# read data\n",
    "df=read_csv('data.csv')\n",
    "sim_vec_cosine=similarity_vector(df,\"cosine\")\n",
    "sim_vec_euc=similarity_vector(df)"
   ]
  },
  {
   "cell_type": "code",
   "execution_count": 46,
   "id": "51f790c0",
   "metadata": {},
   "outputs": [
    {
     "data": {
      "text/plain": [
       "array([[1.        , 0.99985238, 0.99604997, ..., 0.94266984, 0.72007789,\n",
       "        0.68925746],\n",
       "       [0.99985238, 1.        , 0.99742859, ..., 0.94826473, 0.73189397,\n",
       "        0.70160425],\n",
       "       [0.99604997, 0.99742859, 1.        , ..., 0.96857935, 0.77884743,\n",
       "        0.75086792],\n",
       "       ...,\n",
       "       [0.94266984, 0.94826473, 0.96857935, ..., 1.        , 0.91036648,\n",
       "        0.89153278],\n",
       "       [0.72007789, 0.73189397, 0.77884743, ..., 0.91036648, 1.        ,\n",
       "        0.99905616],\n",
       "       [0.68925746, 0.70160425, 0.75086792, ..., 0.89153278, 0.99905616,\n",
       "        1.        ]])"
      ]
     },
     "execution_count": 46,
     "metadata": {},
     "output_type": "execute_result"
    }
   ],
   "source": [
    "sim_vec_cosine"
   ]
  },
  {
   "attachments": {
    "image.png": {
     "image/png": "[encoded data removed]"
    }
   },
   "cell_type": "markdown",
   "id": "10555261",
   "metadata": {},
   "source": [
    "![image.png](attachment:image.png)"
   ]
  },
  {
   "cell_type": "code",
   "execution_count": 47,
   "id": "2a856315",
   "metadata": {},
   "outputs": [
    {
     "data": {
      "text/plain": [
       "array([[1.        , 0.30901699, 0.01998777, ..., 0.03834375, 0.02563238,\n",
       "        0.02203387],\n",
       "       [0.30901699, 1.        , 0.02088896, ..., 0.04096782, 0.02536864,\n",
       "        0.02123245],\n",
       "       [0.01998777, 0.02088896, 1.        , ..., 0.02429415, 0.01349853,\n",
       "        0.01086892],\n",
       "       ...,\n",
       "       [0.03834375, 0.04096782, 0.02429415, ..., 1.        , 0.02942488,\n",
       "        0.01806962],\n",
       "       [0.02563238, 0.02536864, 0.01349853, ..., 0.02942488, 1.        ,\n",
       "        0.03333333],\n",
       "       [0.02203387, 0.02123245, 0.01086892, ..., 0.01806962, 0.03333333,\n",
       "        1.        ]])"
      ]
     },
     "execution_count": 47,
     "metadata": {},
     "output_type": "execute_result"
    }
   ],
   "source": [
    "sim_vec_euc"
   ]
  },
  {
   "cell_type": "code",
   "execution_count": 48,
   "id": "d2e13abe",
   "metadata": {},
   "outputs": [],
   "source": [
    "# kmeans  functions \n",
    "def should_stop(data_set,old,new,iteration,type):\n",
    "    # stop function for kmeans\n",
    "    if (old is None):\n",
    "        return False\n",
    "    if iteration > 400 :\n",
    "        return True\n",
    "    sum=0\n",
    "    for i,j in zip(old,new):\n",
    "        if (type != \"cosine\"):\n",
    "            distance = eucilidean_distance(i,j)\n",
    "        else: \n",
    "            distance = cosine_similarity(i,j)\n",
    "                \n",
    "        sum += distance\n",
    "        if sum > 3.9:\n",
    "            return True\n",
    "    \n",
    "    return False    "
   ]
  },
  {
   "cell_type": "code",
   "execution_count": 49,
   "id": "e8b1c8ce",
   "metadata": {},
   "outputs": [],
   "source": [
    "def get_random_centroids(num_featres,k):\n",
    "    centroids=[]\n",
    "    for i in range (k):\n",
    "        temp = []\n",
    "        for j in range(num_featres):\n",
    "            temp.append(random.randint(0,160))\n",
    "        centroids.append(temp)\n",
    "    return centroids"
   ]
  },
  {
   "cell_type": "code",
   "execution_count": 50,
   "id": "bc4e7501",
   "metadata": {},
   "outputs": [],
   "source": [
    "\n",
    "def get_labes (data_set,centroids,type= None):\n",
    "    labels={\n",
    "        \n",
    "    }\n",
    "    for i in range(len(data_set)) :\n",
    "            value=-1\n",
    "            centroid= -1\n",
    "            for j in range(len(centroids)):\n",
    "                if (type == \"cosine\"):\n",
    "                    similarity = cosine_similarity (data_set[i],centroids[j])\n",
    "                else:\n",
    "                    similarity = eucilidean_distance (data_set[i],centroids[j])\n",
    "                if(similarity > value):\n",
    "                    value =similarity\n",
    "                    centroid = j \n",
    "            labels[i]= centroid\n",
    "     \n",
    "    return labels\n"
   ]
  },
  {
   "cell_type": "code",
   "execution_count": 51,
   "id": "d609d25f",
   "metadata": {},
   "outputs": [],
   "source": [
    "def get_centroids(data_set,lables,k):\n",
    "    centroids = []\n",
    "    for i in range (k):\n",
    "        count = 0\n",
    "        sum_x = 0 \n",
    "        sum_y = 0\n",
    "        for j in range(len(data_set)):\n",
    "            if lables[j] == i :\n",
    "                count += 1\n",
    "                sum_x += data_set[j][0]\n",
    "                sum_y += data_set[j][1]\n",
    "        if count == 0 :\n",
    "            centroids.append([sum_x,sum_y])\n",
    "        else:\n",
    "            centroids.append([sum_x/count , sum_y/count])\n",
    "    return centroids\n",
    "    "
   ]
  },
  {
   "cell_type": "code",
   "execution_count": 52,
   "id": "79017893",
   "metadata": {},
   "outputs": [],
   "source": [
    "# kmeans\n",
    "\n",
    "def kmeans (data_set,k,type=None):\n",
    "    num_features = len(data_set[0])\n",
    "    centroids = get_random_centroids(num_features,k)\n",
    "    iteration = 0\n",
    "    old_centroids= None\n",
    "    while not should_stop(data_set,old_centroids,centroids,iteration,type):\n",
    "        old_centroids = centroids \n",
    "        iteration += 1 \n",
    "        \n",
    "        labels = get_labes(data_set , centroids, type)\n",
    "        centroids = get_centroids ( data_set , labels ,k)\n",
    "    return centroids"
   ]
  },
  {
   "cell_type": "code",
   "execution_count": 58,
   "id": "921be0e5",
   "metadata": {},
   "outputs": [
    {
     "data": {
      "image/png": "[encoded data removed]",
      "text/plain": [
       "<Figure size 432x288 with 1 Axes>"
      ]
     },
     "metadata": {
      "needs_background": "light"
     },
     "output_type": "display_data"
    }
   ],
   "source": [
    "cos_centroids = kmeans(df,4,\"cosine\")\n",
    "cos_lables = get_labes (df,cos_centroids,\"cosine\")\n",
    "\n",
    "x=[]\n",
    "y=[]\n",
    "for i in range(4):\n",
    "    x.append([])\n",
    "    y.append([])\n",
    "    for j in range(len(df)):\n",
    "        if (cos_lables[j] == i):\n",
    "            x[i].append(df[j][0])\n",
    "            y[i].append(df[j][1])\n",
    "            \n",
    "plt.scatter(x[0],y[0],c='red')\n",
    "plt.scatter(x[1],y[1],c='blue')\n",
    "plt.scatter(x[2],y[2],c='green')\n",
    "plt.scatter(x[3],y[3],c='black')\n",
    "\n",
    "plt.show()\n",
    "\n",
    "            "
   ]
  },
  {
   "cell_type": "code",
   "execution_count": 59,
   "id": "fd153194",
   "metadata": {},
   "outputs": [
    {
     "data": {
      "image/png": "[encoded data removed]",
      "text/plain": [
       "<Figure size 432x288 with 1 Axes>"
      ]
     },
     "metadata": {
      "needs_background": "light"
     },
     "output_type": "display_data"
    }
   ],
   "source": [
    "\n",
    "euc_centroids = kmeans(df,4)\n",
    "euc_lables = get_labes (df,euc_centroids)\n",
    "\n",
    "x=[]\n",
    "y=[]\n",
    "for i in range(4):\n",
    "    x.append([])\n",
    "    y.append([])\n",
    "    for j in range(len(df)):\n",
    "        if (euc_lables[j] == i):\n",
    "            x[i].append(df[j][0])\n",
    "            y[i].append(df[j][1])\n",
    "            \n",
    "plt.scatter(x[0],y[0],c='red')\n",
    "plt.scatter(x[1],y[1],c='blue')\n",
    "plt.scatter(x[2],y[2],c='green')\n",
    "plt.scatter(x[3],y[3],c='black')\n",
    "\n",
    "plt.show()\n"
   ]
  },
  {
   "cell_type": "code",
   "execution_count": null,
   "id": "bd65ef11",
   "metadata": {},
   "outputs": [],
   "source": []
  },
  {
   "cell_type": "code",
   "execution_count": null,
   "id": "ff661841",
   "metadata": {},
   "outputs": [],
   "source": []
  }
 ],
 "metadata": {
  "kernelspec": {
   "display_name": "Python 3 (ipykernel)",
   "language": "python",
   "name": "python3"
  },
  "language_info": {
   "codemirror_mode": {
    "name": "ipython",
    "version": 3
   },
   "file_extension": ".py",
   "mimetype": "text/x-python",
   "name": "python",
   "nbconvert_exporter": "python",
   "pygments_lexer": "ipython3",
   "version": "3.8.10"
  }
 },
 "nbformat": 4,
 "nbformat_minor": 5
}
