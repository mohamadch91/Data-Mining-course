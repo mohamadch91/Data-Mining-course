{
 "cells": [
  {
   "cell_type": "code",
   "execution_count": 25,
   "id": "48fc07ef",
   "metadata": {},
   "outputs": [
    {
     "data": {
      "text/plain": "      Area  Room  Parking  Warehouse  Elevator             Address       Price\n0       63     1     True       True      True             Shahran  1850000000\n1       60     1     True       True      True             Shahran  1850000000\n2       79     2     True       True      True              Pardis   550000000\n3       95     2     True       True      True       Shahrake Qods   902500000\n4      123     2     True       True      True      Shahrake Gharb  7000000000\n...    ...   ...      ...        ...       ...                 ...         ...\n3468    86     2     True       True      True  Southern Janatabad  3500000000\n3469    83     2     True       True      True            Niavaran  6800000000\n3470    75     2    False      False     False              Parand   365000000\n3471   105     2     True       True      True              Dorous  5600000000\n3472    82     2    False       True      True              Parand   360000000\n\n[3473 rows x 7 columns]",
      "text/html": "<div>\n<style scoped>\n    .dataframe tbody tr th:only-of-type {\n        vertical-align: middle;\n    }\n\n    .dataframe tbody tr th {\n        vertical-align: top;\n    }\n\n    .dataframe thead th {\n        text-align: right;\n    }\n</style>\n<table border=\"1\" class=\"dataframe\">\n  <thead>\n    <tr style=\"text-align: right;\">\n      <th></th>\n      <th>Area</th>\n      <th>Room</th>\n      <th>Parking</th>\n      <th>Warehouse</th>\n      <th>Elevator</th>\n      <th>Address</th>\n      <th>Price</th>\n    </tr>\n  </thead>\n  <tbody>\n    <tr>\n      <th>0</th>\n      <td>63</td>\n      <td>1</td>\n      <td>True</td>\n      <td>True</td>\n      <td>True</td>\n      <td>Shahran</td>\n      <td>1850000000</td>\n    </tr>\n    <tr>\n      <th>1</th>\n      <td>60</td>\n      <td>1</td>\n      <td>True</td>\n      <td>True</td>\n      <td>True</td>\n      <td>Shahran</td>\n      <td>1850000000</td>\n    </tr>\n    <tr>\n      <th>2</th>\n      <td>79</td>\n      <td>2</td>\n      <td>True</td>\n      <td>True</td>\n      <td>True</td>\n      <td>Pardis</td>\n      <td>550000000</td>\n    </tr>\n    <tr>\n      <th>3</th>\n      <td>95</td>\n      <td>2</td>\n      <td>True</td>\n      <td>True</td>\n      <td>True</td>\n      <td>Shahrake Qods</td>\n      <td>902500000</td>\n    </tr>\n    <tr>\n      <th>4</th>\n      <td>123</td>\n      <td>2</td>\n      <td>True</td>\n      <td>True</td>\n      <td>True</td>\n      <td>Shahrake Gharb</td>\n      <td>7000000000</td>\n    </tr>\n    <tr>\n      <th>...</th>\n      <td>...</td>\n      <td>...</td>\n      <td>...</td>\n      <td>...</td>\n      <td>...</td>\n      <td>...</td>\n      <td>...</td>\n    </tr>\n    <tr>\n      <th>3468</th>\n      <td>86</td>\n      <td>2</td>\n      <td>True</td>\n      <td>True</td>\n      <td>True</td>\n      <td>Southern Janatabad</td>\n      <td>3500000000</td>\n    </tr>\n    <tr>\n      <th>3469</th>\n      <td>83</td>\n      <td>2</td>\n      <td>True</td>\n      <td>True</td>\n      <td>True</td>\n      <td>Niavaran</td>\n      <td>6800000000</td>\n    </tr>\n    <tr>\n      <th>3470</th>\n      <td>75</td>\n      <td>2</td>\n      <td>False</td>\n      <td>False</td>\n      <td>False</td>\n      <td>Parand</td>\n      <td>365000000</td>\n    </tr>\n    <tr>\n      <th>3471</th>\n      <td>105</td>\n      <td>2</td>\n      <td>True</td>\n      <td>True</td>\n      <td>True</td>\n      <td>Dorous</td>\n      <td>5600000000</td>\n    </tr>\n    <tr>\n      <th>3472</th>\n      <td>82</td>\n      <td>2</td>\n      <td>False</td>\n      <td>True</td>\n      <td>True</td>\n      <td>Parand</td>\n      <td>360000000</td>\n    </tr>\n  </tbody>\n</table>\n<p>3473 rows × 7 columns</p>\n</div>"
     },
     "execution_count": 25,
     "metadata": {},
     "output_type": "execute_result"
    }
   ],
   "source": [
    "import pandas as pd\n",
    "df=pd.read_csv(\"housePrice.csv\")\n",
    "df"
   ]
  },
  {
   "cell_type": "code",
   "execution_count": 26,
   "id": "45f02cd9",
   "metadata": {},
   "outputs": [
    {
     "data": {
      "text/plain": "      Area  Room  Parking  Warehouse  Elevator             Address       Price\n0       63     1     True       True      True             Shahran  1850000000\n1       60     1     True       True      True             Shahran  1850000000\n2       79     2     True       True      True              Pardis   550000000\n3       95     2     True       True      True       Shahrake Qods   902500000\n4      123     2     True       True      True      Shahrake Gharb  7000000000\n...    ...   ...      ...        ...       ...                 ...         ...\n3468    86     2     True       True      True  Southern Janatabad  3500000000\n3469    83     2     True       True      True            Niavaran  6800000000\n3470    75     2    False      False     False              Parand   365000000\n3471   105     2     True       True      True              Dorous  5600000000\n3472    82     2    False       True      True              Parand   360000000\n\n[3450 rows x 7 columns]",
      "text/html": "<div>\n<style scoped>\n    .dataframe tbody tr th:only-of-type {\n        vertical-align: middle;\n    }\n\n    .dataframe tbody tr th {\n        vertical-align: top;\n    }\n\n    .dataframe thead th {\n        text-align: right;\n    }\n</style>\n<table border=\"1\" class=\"dataframe\">\n  <thead>\n    <tr style=\"text-align: right;\">\n      <th></th>\n      <th>Area</th>\n      <th>Room</th>\n      <th>Parking</th>\n      <th>Warehouse</th>\n      <th>Elevator</th>\n      <th>Address</th>\n      <th>Price</th>\n    </tr>\n  </thead>\n  <tbody>\n    <tr>\n      <th>0</th>\n      <td>63</td>\n      <td>1</td>\n      <td>True</td>\n      <td>True</td>\n      <td>True</td>\n      <td>Shahran</td>\n      <td>1850000000</td>\n    </tr>\n    <tr>\n      <th>1</th>\n      <td>60</td>\n      <td>1</td>\n      <td>True</td>\n      <td>True</td>\n      <td>True</td>\n      <td>Shahran</td>\n      <td>1850000000</td>\n    </tr>\n    <tr>\n      <th>2</th>\n      <td>79</td>\n      <td>2</td>\n      <td>True</td>\n      <td>True</td>\n      <td>True</td>\n      <td>Pardis</td>\n      <td>550000000</td>\n    </tr>\n    <tr>\n      <th>3</th>\n      <td>95</td>\n      <td>2</td>\n      <td>True</td>\n      <td>True</td>\n      <td>True</td>\n      <td>Shahrake Qods</td>\n      <td>902500000</td>\n    </tr>\n    <tr>\n      <th>4</th>\n      <td>123</td>\n      <td>2</td>\n      <td>True</td>\n      <td>True</td>\n      <td>True</td>\n      <td>Shahrake Gharb</td>\n      <td>7000000000</td>\n    </tr>\n    <tr>\n      <th>...</th>\n      <td>...</td>\n      <td>...</td>\n      <td>...</td>\n      <td>...</td>\n      <td>...</td>\n      <td>...</td>\n      <td>...</td>\n    </tr>\n    <tr>\n      <th>3468</th>\n      <td>86</td>\n      <td>2</td>\n      <td>True</td>\n      <td>True</td>\n      <td>True</td>\n      <td>Southern Janatabad</td>\n      <td>3500000000</td>\n    </tr>\n    <tr>\n      <th>3469</th>\n      <td>83</td>\n      <td>2</td>\n      <td>True</td>\n      <td>True</td>\n      <td>True</td>\n      <td>Niavaran</td>\n      <td>6800000000</td>\n    </tr>\n    <tr>\n      <th>3470</th>\n      <td>75</td>\n      <td>2</td>\n      <td>False</td>\n      <td>False</td>\n      <td>False</td>\n      <td>Parand</td>\n      <td>365000000</td>\n    </tr>\n    <tr>\n      <th>3471</th>\n      <td>105</td>\n      <td>2</td>\n      <td>True</td>\n      <td>True</td>\n      <td>True</td>\n      <td>Dorous</td>\n      <td>5600000000</td>\n    </tr>\n    <tr>\n      <th>3472</th>\n      <td>82</td>\n      <td>2</td>\n      <td>False</td>\n      <td>True</td>\n      <td>True</td>\n      <td>Parand</td>\n      <td>360000000</td>\n    </tr>\n  </tbody>\n</table>\n<p>3450 rows × 7 columns</p>\n</div>"
     },
     "execution_count": 26,
     "metadata": {},
     "output_type": "execute_result"
    }
   ],
   "source": [
    "# remove empty rows\n",
    "df=df.dropna()\n",
    "df"
   ]
  },
  {
   "cell_type": "code",
   "execution_count": 27,
   "id": "00a213e9",
   "metadata": {},
   "outputs": [],
   "source": [
    "quartiles=df['Price'].describe()"
   ]
  },
  {
   "cell_type": "code",
   "execution_count": 28,
   "id": "6153abc7",
   "metadata": {},
   "outputs": [
    {
     "data": {
      "text/plain": "      Area  Room  Parking  Warehouse  Elevator             Address   \n0       63     1     True       True      True             Shahran  \\\n1       60     1     True       True      True             Shahran   \n2       79     2     True       True      True              Pardis   \n3       95     2     True       True      True       Shahrake Qods   \n4      123     2     True       True      True      Shahrake Gharb   \n...    ...   ...      ...        ...       ...                 ...   \n3468    86     2     True       True      True  Southern Janatabad   \n3469    83     2     True       True      True            Niavaran   \n3470    75     2    False      False     False              Parand   \n3471   105     2     True       True      True              Dorous   \n3472    82     2    False       True      True              Parand   \n\n           Price priceLevel  \n0     1850000000  underMean  \n1     1850000000  underMean  \n2      550000000      cheap  \n3      902500000      cheap  \n4     7000000000  expensive  \n...          ...        ...  \n3468  3500000000  upperMean  \n3469  6800000000  expensive  \n3470   365000000      cheap  \n3471  5600000000  upperMean  \n3472   360000000      cheap  \n\n[3450 rows x 8 columns]",
      "text/html": "<div>\n<style scoped>\n    .dataframe tbody tr th:only-of-type {\n        vertical-align: middle;\n    }\n\n    .dataframe tbody tr th {\n        vertical-align: top;\n    }\n\n    .dataframe thead th {\n        text-align: right;\n    }\n</style>\n<table border=\"1\" class=\"dataframe\">\n  <thead>\n    <tr style=\"text-align: right;\">\n      <th></th>\n      <th>Area</th>\n      <th>Room</th>\n      <th>Parking</th>\n      <th>Warehouse</th>\n      <th>Elevator</th>\n      <th>Address</th>\n      <th>Price</th>\n      <th>priceLevel</th>\n    </tr>\n  </thead>\n  <tbody>\n    <tr>\n      <th>0</th>\n      <td>63</td>\n      <td>1</td>\n      <td>True</td>\n      <td>True</td>\n      <td>True</td>\n      <td>Shahran</td>\n      <td>1850000000</td>\n      <td>underMean</td>\n    </tr>\n    <tr>\n      <th>1</th>\n      <td>60</td>\n      <td>1</td>\n      <td>True</td>\n      <td>True</td>\n      <td>True</td>\n      <td>Shahran</td>\n      <td>1850000000</td>\n      <td>underMean</td>\n    </tr>\n    <tr>\n      <th>2</th>\n      <td>79</td>\n      <td>2</td>\n      <td>True</td>\n      <td>True</td>\n      <td>True</td>\n      <td>Pardis</td>\n      <td>550000000</td>\n      <td>cheap</td>\n    </tr>\n    <tr>\n      <th>3</th>\n      <td>95</td>\n      <td>2</td>\n      <td>True</td>\n      <td>True</td>\n      <td>True</td>\n      <td>Shahrake Qods</td>\n      <td>902500000</td>\n      <td>cheap</td>\n    </tr>\n    <tr>\n      <th>4</th>\n      <td>123</td>\n      <td>2</td>\n      <td>True</td>\n      <td>True</td>\n      <td>True</td>\n      <td>Shahrake Gharb</td>\n      <td>7000000000</td>\n      <td>expensive</td>\n    </tr>\n    <tr>\n      <th>...</th>\n      <td>...</td>\n      <td>...</td>\n      <td>...</td>\n      <td>...</td>\n      <td>...</td>\n      <td>...</td>\n      <td>...</td>\n      <td>...</td>\n    </tr>\n    <tr>\n      <th>3468</th>\n      <td>86</td>\n      <td>2</td>\n      <td>True</td>\n      <td>True</td>\n      <td>True</td>\n      <td>Southern Janatabad</td>\n      <td>3500000000</td>\n      <td>upperMean</td>\n    </tr>\n    <tr>\n      <th>3469</th>\n      <td>83</td>\n      <td>2</td>\n      <td>True</td>\n      <td>True</td>\n      <td>True</td>\n      <td>Niavaran</td>\n      <td>6800000000</td>\n      <td>expensive</td>\n    </tr>\n    <tr>\n      <th>3470</th>\n      <td>75</td>\n      <td>2</td>\n      <td>False</td>\n      <td>False</td>\n      <td>False</td>\n      <td>Parand</td>\n      <td>365000000</td>\n      <td>cheap</td>\n    </tr>\n    <tr>\n      <th>3471</th>\n      <td>105</td>\n      <td>2</td>\n      <td>True</td>\n      <td>True</td>\n      <td>True</td>\n      <td>Dorous</td>\n      <td>5600000000</td>\n      <td>upperMean</td>\n    </tr>\n    <tr>\n      <th>3472</th>\n      <td>82</td>\n      <td>2</td>\n      <td>False</td>\n      <td>True</td>\n      <td>True</td>\n      <td>Parand</td>\n      <td>360000000</td>\n      <td>cheap</td>\n    </tr>\n  </tbody>\n</table>\n<p>3450 rows × 8 columns</p>\n</div>"
     },
     "execution_count": 28,
     "metadata": {},
     "output_type": "execute_result"
    }
   ],
   "source": [
    "# function to return values\n",
    "def labeling_price(x):\n",
    "    if x<=quartiles[\"25%\"]:\n",
    "        return \"cheap\"\n",
    "    elif x<=quartiles[\"50%\"]:\n",
    "        return \"underMean\"\n",
    "    elif x<=quartiles[\"75%\"]:\n",
    "        return \"upperMean\"\n",
    "    elif x>=quartiles[\"75%\"]:\n",
    "        return \"expensive\"\n",
    "labeld_df=df.copy()\n",
    "labeld_df['priceLevel']=labeld_df['Price'].apply(labeling_price)\n",
    "labeld_df\n",
    "    "
   ]
  },
  {
   "cell_type": "code",
   "execution_count": 29,
   "id": "ac4685fd",
   "metadata": {},
   "outputs": [
    {
     "data": {
      "text/plain": "      Area  Room  Parking  Warehouse  Elevator  Address       Price   \n0       63     1        1          1         1      156  1850000000  \\\n1       60     1        1          1         1      156  1850000000   \n2       79     2        1          1         1      117   550000000   \n3       95     2        1          1         1      152   902500000   \n4      123     2        1          1         1      150  7000000000   \n...    ...   ...      ...        ...       ...      ...         ...   \n3468    86     2        1          1         1      163  3500000000   \n3469    83     2        1          1         1      105  6800000000   \n3470    75     2        0          0         0      115   365000000   \n3471   105     2        1          1         1       39  5600000000   \n3472    82     2        0          1         1      115   360000000   \n\n      priceLevel  \n0              2  \n1              2  \n2              0  \n3              0  \n4              1  \n...          ...  \n3468           3  \n3469           1  \n3470           0  \n3471           3  \n3472           0  \n\n[3450 rows x 8 columns]",
      "text/html": "<div>\n<style scoped>\n    .dataframe tbody tr th:only-of-type {\n        vertical-align: middle;\n    }\n\n    .dataframe tbody tr th {\n        vertical-align: top;\n    }\n\n    .dataframe thead th {\n        text-align: right;\n    }\n</style>\n<table border=\"1\" class=\"dataframe\">\n  <thead>\n    <tr style=\"text-align: right;\">\n      <th></th>\n      <th>Area</th>\n      <th>Room</th>\n      <th>Parking</th>\n      <th>Warehouse</th>\n      <th>Elevator</th>\n      <th>Address</th>\n      <th>Price</th>\n      <th>priceLevel</th>\n    </tr>\n  </thead>\n  <tbody>\n    <tr>\n      <th>0</th>\n      <td>63</td>\n      <td>1</td>\n      <td>1</td>\n      <td>1</td>\n      <td>1</td>\n      <td>156</td>\n      <td>1850000000</td>\n      <td>2</td>\n    </tr>\n    <tr>\n      <th>1</th>\n      <td>60</td>\n      <td>1</td>\n      <td>1</td>\n      <td>1</td>\n      <td>1</td>\n      <td>156</td>\n      <td>1850000000</td>\n      <td>2</td>\n    </tr>\n    <tr>\n      <th>2</th>\n      <td>79</td>\n      <td>2</td>\n      <td>1</td>\n      <td>1</td>\n      <td>1</td>\n      <td>117</td>\n      <td>550000000</td>\n      <td>0</td>\n    </tr>\n    <tr>\n      <th>3</th>\n      <td>95</td>\n      <td>2</td>\n      <td>1</td>\n      <td>1</td>\n      <td>1</td>\n      <td>152</td>\n      <td>902500000</td>\n      <td>0</td>\n    </tr>\n    <tr>\n      <th>4</th>\n      <td>123</td>\n      <td>2</td>\n      <td>1</td>\n      <td>1</td>\n      <td>1</td>\n      <td>150</td>\n      <td>7000000000</td>\n      <td>1</td>\n    </tr>\n    <tr>\n      <th>...</th>\n      <td>...</td>\n      <td>...</td>\n      <td>...</td>\n      <td>...</td>\n      <td>...</td>\n      <td>...</td>\n      <td>...</td>\n      <td>...</td>\n    </tr>\n    <tr>\n      <th>3468</th>\n      <td>86</td>\n      <td>2</td>\n      <td>1</td>\n      <td>1</td>\n      <td>1</td>\n      <td>163</td>\n      <td>3500000000</td>\n      <td>3</td>\n    </tr>\n    <tr>\n      <th>3469</th>\n      <td>83</td>\n      <td>2</td>\n      <td>1</td>\n      <td>1</td>\n      <td>1</td>\n      <td>105</td>\n      <td>6800000000</td>\n      <td>1</td>\n    </tr>\n    <tr>\n      <th>3470</th>\n      <td>75</td>\n      <td>2</td>\n      <td>0</td>\n      <td>0</td>\n      <td>0</td>\n      <td>115</td>\n      <td>365000000</td>\n      <td>0</td>\n    </tr>\n    <tr>\n      <th>3471</th>\n      <td>105</td>\n      <td>2</td>\n      <td>1</td>\n      <td>1</td>\n      <td>1</td>\n      <td>39</td>\n      <td>5600000000</td>\n      <td>3</td>\n    </tr>\n    <tr>\n      <th>3472</th>\n      <td>82</td>\n      <td>2</td>\n      <td>0</td>\n      <td>1</td>\n      <td>1</td>\n      <td>115</td>\n      <td>360000000</td>\n      <td>0</td>\n    </tr>\n  </tbody>\n</table>\n<p>3450 rows × 8 columns</p>\n</div>"
     },
     "execution_count": 29,
     "metadata": {},
     "output_type": "execute_result"
    }
   ],
   "source": [
    "# convert to numerical values \n",
    "from sklearn.preprocessing import LabelEncoder\n",
    "le = LabelEncoder()\n",
    "number_df=labeld_df.copy()\n",
    "number_df['priceLevel'] = le.fit_transform(number_df['priceLevel'])\n",
    "number_df['Elevator'] = le.fit_transform(number_df['Elevator'])\n",
    "\n",
    "number_df['Address'] = le.fit_transform(number_df['Address'])\n",
    "number_df['Warehouse'] = le.fit_transform(number_df['Warehouse'])\n",
    "\n",
    "number_df['Parking'] = le.fit_transform(number_df['Parking'])\n",
    "\n",
    "number_df"
   ]
  },
  {
   "cell_type": "code",
   "execution_count": 30,
   "id": "3b10efc6",
   "metadata": {},
   "outputs": [
    {
     "data": {
      "text/plain": "          Area  Room  Parking  Warehouse  Elevator   Address     Price   \n0     0.036707   0.2      1.0        1.0       1.0  0.816754  0.019983  \\\n1     0.033370   0.2      1.0        1.0       1.0  0.816754  0.019983   \n2     0.054505   0.4      1.0        1.0       1.0  0.612565  0.005914   \n3     0.072303   0.4      1.0        1.0       1.0  0.795812  0.009729   \n4     0.103448   0.4      1.0        1.0       1.0  0.785340  0.075722   \n...        ...   ...      ...        ...       ...       ...       ...   \n3468  0.062291   0.4      1.0        1.0       1.0  0.853403  0.037841   \n3469  0.058954   0.4      1.0        1.0       1.0  0.549738  0.073557   \n3470  0.050056   0.4      0.0        0.0       0.0  0.602094  0.003911   \n3471  0.083426   0.4      1.0        1.0       1.0  0.204188  0.060569   \n3472  0.057842   0.4      0.0        1.0       1.0  0.602094  0.003857   \n\n      priceLevel  \n0              2  \n1              2  \n2              0  \n3              0  \n4              1  \n...          ...  \n3468           3  \n3469           1  \n3470           0  \n3471           3  \n3472           0  \n\n[3450 rows x 8 columns]",
      "text/html": "<div>\n<style scoped>\n    .dataframe tbody tr th:only-of-type {\n        vertical-align: middle;\n    }\n\n    .dataframe tbody tr th {\n        vertical-align: top;\n    }\n\n    .dataframe thead th {\n        text-align: right;\n    }\n</style>\n<table border=\"1\" class=\"dataframe\">\n  <thead>\n    <tr style=\"text-align: right;\">\n      <th></th>\n      <th>Area</th>\n      <th>Room</th>\n      <th>Parking</th>\n      <th>Warehouse</th>\n      <th>Elevator</th>\n      <th>Address</th>\n      <th>Price</th>\n      <th>priceLevel</th>\n    </tr>\n  </thead>\n  <tbody>\n    <tr>\n      <th>0</th>\n      <td>0.036707</td>\n      <td>0.2</td>\n      <td>1.0</td>\n      <td>1.0</td>\n      <td>1.0</td>\n      <td>0.816754</td>\n      <td>0.019983</td>\n      <td>2</td>\n    </tr>\n    <tr>\n      <th>1</th>\n      <td>0.033370</td>\n      <td>0.2</td>\n      <td>1.0</td>\n      <td>1.0</td>\n      <td>1.0</td>\n      <td>0.816754</td>\n      <td>0.019983</td>\n      <td>2</td>\n    </tr>\n    <tr>\n      <th>2</th>\n      <td>0.054505</td>\n      <td>0.4</td>\n      <td>1.0</td>\n      <td>1.0</td>\n      <td>1.0</td>\n      <td>0.612565</td>\n      <td>0.005914</td>\n      <td>0</td>\n    </tr>\n    <tr>\n      <th>3</th>\n      <td>0.072303</td>\n      <td>0.4</td>\n      <td>1.0</td>\n      <td>1.0</td>\n      <td>1.0</td>\n      <td>0.795812</td>\n      <td>0.009729</td>\n      <td>0</td>\n    </tr>\n    <tr>\n      <th>4</th>\n      <td>0.103448</td>\n      <td>0.4</td>\n      <td>1.0</td>\n      <td>1.0</td>\n      <td>1.0</td>\n      <td>0.785340</td>\n      <td>0.075722</td>\n      <td>1</td>\n    </tr>\n    <tr>\n      <th>...</th>\n      <td>...</td>\n      <td>...</td>\n      <td>...</td>\n      <td>...</td>\n      <td>...</td>\n      <td>...</td>\n      <td>...</td>\n      <td>...</td>\n    </tr>\n    <tr>\n      <th>3468</th>\n      <td>0.062291</td>\n      <td>0.4</td>\n      <td>1.0</td>\n      <td>1.0</td>\n      <td>1.0</td>\n      <td>0.853403</td>\n      <td>0.037841</td>\n      <td>3</td>\n    </tr>\n    <tr>\n      <th>3469</th>\n      <td>0.058954</td>\n      <td>0.4</td>\n      <td>1.0</td>\n      <td>1.0</td>\n      <td>1.0</td>\n      <td>0.549738</td>\n      <td>0.073557</td>\n      <td>1</td>\n    </tr>\n    <tr>\n      <th>3470</th>\n      <td>0.050056</td>\n      <td>0.4</td>\n      <td>0.0</td>\n      <td>0.0</td>\n      <td>0.0</td>\n      <td>0.602094</td>\n      <td>0.003911</td>\n      <td>0</td>\n    </tr>\n    <tr>\n      <th>3471</th>\n      <td>0.083426</td>\n      <td>0.4</td>\n      <td>1.0</td>\n      <td>1.0</td>\n      <td>1.0</td>\n      <td>0.204188</td>\n      <td>0.060569</td>\n      <td>3</td>\n    </tr>\n    <tr>\n      <th>3472</th>\n      <td>0.057842</td>\n      <td>0.4</td>\n      <td>0.0</td>\n      <td>1.0</td>\n      <td>1.0</td>\n      <td>0.602094</td>\n      <td>0.003857</td>\n      <td>0</td>\n    </tr>\n  </tbody>\n</table>\n<p>3450 rows × 8 columns</p>\n</div>"
     },
     "execution_count": 30,
     "metadata": {},
     "output_type": "execute_result"
    }
   ],
   "source": [
    "# normilizing features\n",
    "from sklearn.preprocessing import StandardScaler,MinMaxScaler\n",
    "columns=[\"Area\",\"Room\",\"Parking\",\"Warehouse\",\"Elevator\",\"Address\",\"Price\"]\n",
    "selected_cols=number_df[columns]\n",
    "# normilize \n",
    "normal_df=number_df.copy(deep=True)\n",
    "scaler = MinMaxScaler()\n",
    "normal_df[columns] = scaler.fit_transform(selected_cols)\n",
    "normal_df"
   ]
  },
  {
   "cell_type": "code",
   "execution_count": 31,
   "id": "0eb8d441",
   "metadata": {},
   "outputs": [
    {
     "data": {
      "text/plain": "          Area  Room  Parking  Warehouse  Elevator   Address     Price   \n74    0.036707   0.2      1.0        1.0       1.0  0.638743  0.023230  \\\n49    0.033370   0.2      1.0        1.0       1.0  0.005236  0.026585   \n2523  0.061179   0.4      1.0        1.0       1.0  0.612565  0.006996   \n2956  0.012236   0.2      0.0        0.0       1.0  0.837696  0.008511   \n812   0.105673   0.6      1.0        1.0       1.0  0.638743  0.068146   \n...        ...   ...      ...        ...       ...       ...       ...   \n1098  0.022247   0.2      1.0        1.0       1.0  0.581152  0.016195   \n1135  0.116796   0.6      1.0        1.0       1.0  0.654450  0.031889   \n1299  0.042269   0.4      1.0        1.0       1.0  0.554974  0.026477   \n863   0.052280   0.4      1.0        1.0       1.0  0.298429  0.059963   \n3190  0.047831   0.4      1.0        1.0       0.0  0.047120  0.009161   \n\n      priceLevel  \n74             2  \n49             2  \n2523           0  \n2956           0  \n812            1  \n...          ...  \n1098           2  \n1135           3  \n1299           2  \n863            3  \n3190           0  \n\n[2760 rows x 8 columns]",
      "text/html": "<div>\n<style scoped>\n    .dataframe tbody tr th:only-of-type {\n        vertical-align: middle;\n    }\n\n    .dataframe tbody tr th {\n        vertical-align: top;\n    }\n\n    .dataframe thead th {\n        text-align: right;\n    }\n</style>\n<table border=\"1\" class=\"dataframe\">\n  <thead>\n    <tr style=\"text-align: right;\">\n      <th></th>\n      <th>Area</th>\n      <th>Room</th>\n      <th>Parking</th>\n      <th>Warehouse</th>\n      <th>Elevator</th>\n      <th>Address</th>\n      <th>Price</th>\n      <th>priceLevel</th>\n    </tr>\n  </thead>\n  <tbody>\n    <tr>\n      <th>74</th>\n      <td>0.036707</td>\n      <td>0.2</td>\n      <td>1.0</td>\n      <td>1.0</td>\n      <td>1.0</td>\n      <td>0.638743</td>\n      <td>0.023230</td>\n      <td>2</td>\n    </tr>\n    <tr>\n      <th>49</th>\n      <td>0.033370</td>\n      <td>0.2</td>\n      <td>1.0</td>\n      <td>1.0</td>\n      <td>1.0</td>\n      <td>0.005236</td>\n      <td>0.026585</td>\n      <td>2</td>\n    </tr>\n    <tr>\n      <th>2523</th>\n      <td>0.061179</td>\n      <td>0.4</td>\n      <td>1.0</td>\n      <td>1.0</td>\n      <td>1.0</td>\n      <td>0.612565</td>\n      <td>0.006996</td>\n      <td>0</td>\n    </tr>\n    <tr>\n      <th>2956</th>\n      <td>0.012236</td>\n      <td>0.2</td>\n      <td>0.0</td>\n      <td>0.0</td>\n      <td>1.0</td>\n      <td>0.837696</td>\n      <td>0.008511</td>\n      <td>0</td>\n    </tr>\n    <tr>\n      <th>812</th>\n      <td>0.105673</td>\n      <td>0.6</td>\n      <td>1.0</td>\n      <td>1.0</td>\n      <td>1.0</td>\n      <td>0.638743</td>\n      <td>0.068146</td>\n      <td>1</td>\n    </tr>\n    <tr>\n      <th>...</th>\n      <td>...</td>\n      <td>...</td>\n      <td>...</td>\n      <td>...</td>\n      <td>...</td>\n      <td>...</td>\n      <td>...</td>\n      <td>...</td>\n    </tr>\n    <tr>\n      <th>1098</th>\n      <td>0.022247</td>\n      <td>0.2</td>\n      <td>1.0</td>\n      <td>1.0</td>\n      <td>1.0</td>\n      <td>0.581152</td>\n      <td>0.016195</td>\n      <td>2</td>\n    </tr>\n    <tr>\n      <th>1135</th>\n      <td>0.116796</td>\n      <td>0.6</td>\n      <td>1.0</td>\n      <td>1.0</td>\n      <td>1.0</td>\n      <td>0.654450</td>\n      <td>0.031889</td>\n      <td>3</td>\n    </tr>\n    <tr>\n      <th>1299</th>\n      <td>0.042269</td>\n      <td>0.4</td>\n      <td>1.0</td>\n      <td>1.0</td>\n      <td>1.0</td>\n      <td>0.554974</td>\n      <td>0.026477</td>\n      <td>2</td>\n    </tr>\n    <tr>\n      <th>863</th>\n      <td>0.052280</td>\n      <td>0.4</td>\n      <td>1.0</td>\n      <td>1.0</td>\n      <td>1.0</td>\n      <td>0.298429</td>\n      <td>0.059963</td>\n      <td>3</td>\n    </tr>\n    <tr>\n      <th>3190</th>\n      <td>0.047831</td>\n      <td>0.4</td>\n      <td>1.0</td>\n      <td>1.0</td>\n      <td>0.0</td>\n      <td>0.047120</td>\n      <td>0.009161</td>\n      <td>0</td>\n    </tr>\n  </tbody>\n</table>\n<p>2760 rows × 8 columns</p>\n</div>"
     },
     "execution_count": 31,
     "metadata": {},
     "output_type": "execute_result"
    }
   ],
   "source": [
    "from sklearn.model_selection import train_test_split\n",
    "train, test = train_test_split(normal_df, test_size=0.2, random_state=42)\n",
    "train"
   ]
  },
  {
   "cell_type": "code",
   "execution_count": 32,
   "id": "bc692795",
   "metadata": {},
   "outputs": [
    {
     "data": {
      "text/plain": "          Area  Room  Parking  Warehouse  Elevator   Address     Price   \n1456  0.054505   0.4      1.0        1.0       1.0  0.209424  0.028101  \\\n52    0.133482   0.6      1.0        1.0       1.0  0.261780  0.108190   \n568   0.281424   0.6      1.0        1.0       1.0  0.989529  0.321402   \n1618  0.038932   0.4      1.0        1.0       0.0  0.628272  0.017819   \n1169  0.040044   0.4      1.0        1.0       1.0  0.581152  0.017115   \n...        ...   ...      ...        ...       ...       ...       ...   \n721   0.053393   0.4      1.0        1.0       1.0  0.209424  0.035677   \n2722  0.026696   0.2      0.0        0.0       0.0  0.602094  0.002775   \n582   0.428254   1.0      1.0        1.0       1.0  0.549738  0.583858   \n2633  0.035595   0.2      0.0        0.0       0.0  0.162304  0.007645   \n2895  0.063404   0.4      1.0        0.0       1.0  0.607330  0.027018   \n\n      priceLevel  \n1456           2  \n52             1  \n568            1  \n1618           2  \n1169           2  \n...          ...  \n721            3  \n2722           0  \n582            1  \n2633           0  \n2895           2  \n\n[690 rows x 8 columns]",
      "text/html": "<div>\n<style scoped>\n    .dataframe tbody tr th:only-of-type {\n        vertical-align: middle;\n    }\n\n    .dataframe tbody tr th {\n        vertical-align: top;\n    }\n\n    .dataframe thead th {\n        text-align: right;\n    }\n</style>\n<table border=\"1\" class=\"dataframe\">\n  <thead>\n    <tr style=\"text-align: right;\">\n      <th></th>\n      <th>Area</th>\n      <th>Room</th>\n      <th>Parking</th>\n      <th>Warehouse</th>\n      <th>Elevator</th>\n      <th>Address</th>\n      <th>Price</th>\n      <th>priceLevel</th>\n    </tr>\n  </thead>\n  <tbody>\n    <tr>\n      <th>1456</th>\n      <td>0.054505</td>\n      <td>0.4</td>\n      <td>1.0</td>\n      <td>1.0</td>\n      <td>1.0</td>\n      <td>0.209424</td>\n      <td>0.028101</td>\n      <td>2</td>\n    </tr>\n    <tr>\n      <th>52</th>\n      <td>0.133482</td>\n      <td>0.6</td>\n      <td>1.0</td>\n      <td>1.0</td>\n      <td>1.0</td>\n      <td>0.261780</td>\n      <td>0.108190</td>\n      <td>1</td>\n    </tr>\n    <tr>\n      <th>568</th>\n      <td>0.281424</td>\n      <td>0.6</td>\n      <td>1.0</td>\n      <td>1.0</td>\n      <td>1.0</td>\n      <td>0.989529</td>\n      <td>0.321402</td>\n      <td>1</td>\n    </tr>\n    <tr>\n      <th>1618</th>\n      <td>0.038932</td>\n      <td>0.4</td>\n      <td>1.0</td>\n      <td>1.0</td>\n      <td>0.0</td>\n      <td>0.628272</td>\n      <td>0.017819</td>\n      <td>2</td>\n    </tr>\n    <tr>\n      <th>1169</th>\n      <td>0.040044</td>\n      <td>0.4</td>\n      <td>1.0</td>\n      <td>1.0</td>\n      <td>1.0</td>\n      <td>0.581152</td>\n      <td>0.017115</td>\n      <td>2</td>\n    </tr>\n    <tr>\n      <th>...</th>\n      <td>...</td>\n      <td>...</td>\n      <td>...</td>\n      <td>...</td>\n      <td>...</td>\n      <td>...</td>\n      <td>...</td>\n      <td>...</td>\n    </tr>\n    <tr>\n      <th>721</th>\n      <td>0.053393</td>\n      <td>0.4</td>\n      <td>1.0</td>\n      <td>1.0</td>\n      <td>1.0</td>\n      <td>0.209424</td>\n      <td>0.035677</td>\n      <td>3</td>\n    </tr>\n    <tr>\n      <th>2722</th>\n      <td>0.026696</td>\n      <td>0.2</td>\n      <td>0.0</td>\n      <td>0.0</td>\n      <td>0.0</td>\n      <td>0.602094</td>\n      <td>0.002775</td>\n      <td>0</td>\n    </tr>\n    <tr>\n      <th>582</th>\n      <td>0.428254</td>\n      <td>1.0</td>\n      <td>1.0</td>\n      <td>1.0</td>\n      <td>1.0</td>\n      <td>0.549738</td>\n      <td>0.583858</td>\n      <td>1</td>\n    </tr>\n    <tr>\n      <th>2633</th>\n      <td>0.035595</td>\n      <td>0.2</td>\n      <td>0.0</td>\n      <td>0.0</td>\n      <td>0.0</td>\n      <td>0.162304</td>\n      <td>0.007645</td>\n      <td>0</td>\n    </tr>\n    <tr>\n      <th>2895</th>\n      <td>0.063404</td>\n      <td>0.4</td>\n      <td>1.0</td>\n      <td>0.0</td>\n      <td>1.0</td>\n      <td>0.607330</td>\n      <td>0.027018</td>\n      <td>2</td>\n    </tr>\n  </tbody>\n</table>\n<p>690 rows × 8 columns</p>\n</div>"
     },
     "execution_count": 32,
     "metadata": {},
     "output_type": "execute_result"
    }
   ],
   "source": [
    "test"
   ]
  },
  {
   "cell_type": "code",
   "execution_count": 33,
   "id": "0668164d",
   "metadata": {},
   "outputs": [
    {
     "name": "stdout",
     "output_type": "stream",
     "text": [
      "Accuracy train: 0.5398110879615355\n",
      "Mean Squared Error train: 0.0034261001984528553\n",
      "Accuracy test: 0.5322393973976474\n",
      "Mean Squared Error test: 0.004145346470772806\n"
     ]
    }
   ],
   "source": [
    "# linear regression \n",
    "from sklearn.linear_model import LinearRegression\n",
    "from sklearn.metrics import r2_score, mean_squared_error\n",
    "columns=[\"Area\",\"Room\",\"Parking\",\"Warehouse\",\"Elevator\",\"Address\"]\n",
    "l_model = LinearRegression()\n",
    "l_model.fit(train[columns],train[\"Price\"])\n",
    "# Predict using the trained model\n",
    "y_pred = l_model.predict(train[columns])\n",
    "accuracy = r2_score(train[\"Price\"], y_pred)\n",
    "# Calculate mean squared error (for regression problems)\n",
    "mse = mean_squared_error(train[\"Price\"], y_pred)\n",
    "print(\"Accuracy train:\", accuracy)\n",
    "print(\"Mean Squared Error train:\", mse)\n",
    "y_pred_test = l_model.predict(test[columns])\n",
    "accuracy = r2_score(test[\"Price\"], y_pred_test)\n",
    "# Calculate mean squared error (for regression problems)\n",
    "mse = mean_squared_error(test[\"Price\"], y_pred_test)\n",
    "print(\"Accuracy test:\", accuracy)\n",
    "print(\"Mean Squared Error test:\", mse)"
   ]
  },
  {
   "cell_type": "code",
   "execution_count": 34,
   "id": "e8a4b906",
   "metadata": {},
   "outputs": [
    {
     "name": "stdout",
     "output_type": "stream",
     "text": [
      "Accuracy train: 0.6742365738730285\n",
      "Mean Squared Error train: 0.0024253042820141023\n",
      "Accuracy test: 0.7219367829149197\n",
      "Mean Squared Error test: 0.0024642271477815416\n"
     ]
    }
   ],
   "source": [
    "# quadratic regression\n",
    "from sklearn.preprocessing import PolynomialFeatures\n",
    "from sklearn.metrics._regression import mean_squared_error,r2_score\n",
    "poly_reg = PolynomialFeatures(degree=2)\n",
    "columns=[\"Area\",\"Room\",\"Parking\",\"Warehouse\",\"Elevator\",\"Address\"]\n",
    "X_poly = poly_reg.fit_transform(train[columns])\n",
    "pol_reg = LinearRegression()\n",
    "pol_reg.fit(X_poly, train['Price'])\n",
    "y_pred_poly = pol_reg.predict(poly_reg.fit_transform(train[columns]))\n",
    "# print mse, r2\n",
    "mse=mean_squared_error(train['Price'], y_pred_poly)\n",
    "accuracy=r2_score(train['Price'], y_pred_poly)\n",
    "print(\"Accuracy train:\", accuracy)\n",
    "print(\"Mean Squared Error train:\", mse)\n",
    "y_pred_poly = pol_reg.predict(poly_reg.fit_transform(test[columns]))\n",
    "# print mse, r2\n",
    "mse=mean_squared_error(test['Price'], y_pred_poly)\n",
    "accuracy=r2_score(test['Price'], y_pred_poly)\n",
    "\n",
    "print(\"Accuracy test:\", accuracy)\n",
    "print(\"Mean Squared Error test:\", mse)"
   ]
  },
  {
   "cell_type": "code",
   "execution_count": 35,
   "id": "74ef5d20",
   "metadata": {},
   "outputs": [
    {
     "name": "stdout",
     "output_type": "stream",
     "text": [
      "Accuracy train: 0.7540314254055283\n",
      "Mean Squared Error train: 0.0018312326963689386\n",
      "Accuracy test: 0.7261380267051085\n",
      "Mean Squared Error test: 0.0024269952581747107\n"
     ]
    }
   ],
   "source": [
    "# cubic regression\n",
    "from sklearn.preprocessing import PolynomialFeatures\n",
    "from sklearn.linear_model import LinearRegression\n",
    "from sklearn.metrics._regression import mean_squared_error,r2_score\n",
    "poly_reg = PolynomialFeatures(degree=3)\n",
    "X_poly = poly_reg.fit_transform(train[columns])\n",
    "pol_reg = LinearRegression()\n",
    "pol_reg.fit(X_poly, train['Price'])\n",
    "y_pred_poly = pol_reg.predict(poly_reg.fit_transform(train[columns]))\n",
    "# print mse, r2\n",
    "mse=mean_squared_error(train['Price'], y_pred_poly)\n",
    "accuracy=r2_score(train['Price'], y_pred_poly)\n",
    "print(\"Accuracy train:\", accuracy)\n",
    "print(\"Mean Squared Error train:\", mse)\n",
    "y_pred_poly = pol_reg.predict(poly_reg.fit_transform(test[columns]))\n",
    "# print mse, r2\n",
    "mse=mean_squared_error(test['Price'], y_pred_poly)\n",
    "accuracy=r2_score(test['Price'], y_pred_poly)\n",
    "\n",
    "print(\"Accuracy test:\", accuracy)\n",
    "print(\"Mean Squared Error test:\", mse)"
   ]
  },
  {
   "attachments": {
    "image.png": {
     "image/png": "[encoded data removed]"
    }
   },
   "cell_type": "markdown",
   "id": "3f864080",
   "metadata": {},
   "source": [
    "![image.png](attachment:image.png)"
   ]
  },
  {
   "cell_type": "code",
   "execution_count": 36,
   "id": "a202b94a",
   "metadata": {},
   "outputs": [
    {
     "data": {
      "text/plain": "(0.9746376811594203,\n array([[698,   1,   0,   0],\n        [  0, 660,   0,  10],\n        [  8,   0, 680,  12],\n        [  4,   8,  27, 652]]),\n {'0': {'precision': 0.9830985915492958,\n   'recall': 0.9985693848354793,\n   'f1-score': 0.9907735982966643,\n   'support': 699},\n  '1': {'precision': 0.9865470852017937,\n   'recall': 0.9850746268656716,\n   'f1-score': 0.9858103061986556,\n   'support': 670},\n  '2': {'precision': 0.9618104667609618,\n   'recall': 0.9714285714285714,\n   'f1-score': 0.9665955934612651,\n   'support': 700},\n  '3': {'precision': 0.9673590504451038,\n   'recall': 0.9435600578871202,\n   'f1-score': 0.9553113553113554,\n   'support': 691},\n  'accuracy': 0.9746376811594203,\n  'macro avg': {'precision': 0.9747037984892888,\n   'recall': 0.9746581602542106,\n   'f1-score': 0.9746227133169851,\n   'support': 2760},\n  'weighted avg': {'precision': 0.9745959757856519,\n   'recall': 0.9746376811594203,\n   'f1-score': 0.9745582290961956,\n   'support': 2760}})"
     },
     "execution_count": 36,
     "metadata": {},
     "output_type": "execute_result"
    }
   ],
   "source": [
    "# classification\n",
    "# Desicion tree\n",
    "from sklearn.tree import DecisionTreeClassifier\n",
    "from sklearn.metrics import accuracy_score,confusion_matrix,classification_report\n",
    "# make dtc based on entropy:\n",
    "dtc = DecisionTreeClassifier(criterion='entropy')\n",
    "dtc.fit(train[columns], train['priceLevel'])\n",
    "y_pred_dtc = dtc.predict(train[columns])\n",
    "accuracy_score(train['priceLevel'], y_pred_dtc), confusion_matrix(train['priceLevel'], y_pred_dtc), classification_report(train['priceLevel'], y_pred_dtc, output_dict=True)"
   ]
  },
  {
   "cell_type": "code",
   "execution_count": 37,
   "id": "86456240",
   "metadata": {},
   "outputs": [
    {
     "data": {
      "text/plain": "(0.7724637681159421,\n array([[135,   3,  19,   7],\n        [  2, 163,   5,  15],\n        [ 27,   5, 118,  20],\n        [ 11,  21,  22, 117]]),\n {'0': {'precision': 0.7714285714285715,\n   'recall': 0.823170731707317,\n   'f1-score': 0.7964601769911503,\n   'support': 164},\n  '1': {'precision': 0.8489583333333334,\n   'recall': 0.8810810810810811,\n   'f1-score': 0.8647214854111406,\n   'support': 185},\n  '2': {'precision': 0.7195121951219512,\n   'recall': 0.6941176470588235,\n   'f1-score': 0.7065868263473054,\n   'support': 170},\n  '3': {'precision': 0.7358490566037735,\n   'recall': 0.6842105263157895,\n   'f1-score': 0.709090909090909,\n   'support': 171},\n  'accuracy': 0.7724637681159421,\n  'macro avg': {'precision': 0.7689370391219074,\n   'recall': 0.7706449965407527,\n   'f1-score': 0.7692148494601263,\n   'support': 690},\n  'weighted avg': {'precision': 0.7706070133781585,\n   'recall': 0.7724637681159421,\n   'f1-score': 0.7709670286394159,\n   'support': 690}})"
     },
     "execution_count": 37,
     "metadata": {},
     "output_type": "execute_result"
    }
   ],
   "source": [
    "# test values\n",
    "y_pred_dtc = dtc.predict(test[columns])\n",
    "accuracy_score(test['priceLevel'], y_pred_dtc), confusion_matrix(test['priceLevel'], y_pred_dtc), classification_report(test['priceLevel'], y_pred_dtc, output_dict=True)"
   ]
  },
  {
   "cell_type": "code",
   "execution_count": 38,
   "id": "da11f71b",
   "metadata": {},
   "outputs": [
    {
     "data": {
      "text/plain": "(0.9746376811594203,\n array([[691,   1,   4,   3],\n        [  0, 657,   0,  13],\n        [  4,   0, 678,  18],\n        [  1,   5,  21, 664]]),\n {'0': {'precision': 0.992816091954023,\n   'recall': 0.9885550786838341,\n   'f1-score': 0.9906810035842294,\n   'support': 699},\n  '1': {'precision': 0.9909502262443439,\n   'recall': 0.9805970149253731,\n   'f1-score': 0.9857464366091523,\n   'support': 670},\n  '2': {'precision': 0.9644381223328592,\n   'recall': 0.9685714285714285,\n   'f1-score': 0.9665003563791875,\n   'support': 700},\n  '3': {'precision': 0.9512893982808023,\n   'recall': 0.9609261939218524,\n   'f1-score': 0.9560835133189345,\n   'support': 691},\n  'accuracy': 0.9746376811594203,\n  'macro avg': {'precision': 0.9748734597030071,\n   'recall': 0.9746624290256221,\n   'f1-score': 0.974752827472876,\n   'support': 2760},\n  'weighted avg': {'precision': 0.9747691158350029,\n   'recall': 0.9746376811594203,\n   'f1-score': 0.9746884388414216,\n   'support': 2760}})"
     },
     "execution_count": 38,
     "metadata": {},
     "output_type": "execute_result"
    }
   ],
   "source": [
    "# random forest\n",
    "from sklearn.ensemble import RandomForestClassifier\n",
    "from sklearn.metrics import accuracy_score,confusion_matrix,classification_report,confusion_matrix\n",
    "\n",
    "rfc = RandomForestClassifier(criterion='entropy')\n",
    "rfc.fit(train[columns], train['priceLevel'])\n",
    "y_pred_rfc = rfc.predict(train[columns])\n",
    "accuracy_score(train['priceLevel'], y_pred_rfc), confusion_matrix(train['priceLevel'], y_pred_rfc), classification_report(train['priceLevel'], y_pred_rfc, output_dict=True)"
   ]
  },
  {
   "cell_type": "code",
   "execution_count": 39,
   "id": "d0822592",
   "metadata": {},
   "outputs": [
    {
     "data": {
      "text/plain": "(0.7420289855072464,\n array([[133,   2,  23,   6],\n        [  1, 160,   3,  21],\n        [ 24,   7, 111,  28],\n        [ 12,  24,  27, 108]]),\n {'0': {'precision': 0.7823529411764706,\n   'recall': 0.8109756097560976,\n   'f1-score': 0.7964071856287426,\n   'support': 164},\n  '1': {'precision': 0.8290155440414507,\n   'recall': 0.8648648648648649,\n   'f1-score': 0.8465608465608466,\n   'support': 185},\n  '2': {'precision': 0.676829268292683,\n   'recall': 0.6529411764705882,\n   'f1-score': 0.6646706586826348,\n   'support': 170},\n  '3': {'precision': 0.6625766871165644,\n   'recall': 0.631578947368421,\n   'f1-score': 0.6467065868263473,\n   'support': 171},\n  'accuracy': 0.7420289855072464,\n  'macro avg': {'precision': 0.7376936101567921,\n   'recall': 0.740090149614993,\n   'f1-score': 0.7385863194246429,\n   'support': 690},\n  'weighted avg': {'precision': 0.7391816624743451,\n   'recall': 0.7420289855072464,\n   'f1-score': 0.7402976425800344,\n   'support': 690}})"
     },
     "execution_count": 39,
     "metadata": {},
     "output_type": "execute_result"
    }
   ],
   "source": [
    "# test acc\n",
    "y_pred_rfc = rfc.predict(test[columns])\n",
    "accuracy_score(test['priceLevel'], y_pred_rfc), confusion_matrix(test['priceLevel'], y_pred_rfc), classification_report(test['priceLevel'], y_pred_rfc, output_dict=True)"
   ]
  },
  {
   "cell_type": "code",
   "execution_count": 40,
   "id": "0a50e583",
   "metadata": {},
   "outputs": [
    {
     "data": {
      "text/plain": "(0.9684782608695652,\n array([[695,   1,   2,   1],\n        [  0, 659,   0,  11],\n        [  6,   0, 668,  26],\n        [  3,   8,  29, 651]]),\n {'0': {'precision': 0.9872159090909091,\n   'recall': 0.994277539341917,\n   'f1-score': 0.9907341411261583,\n   'support': 699},\n  '1': {'precision': 0.9865269461077845,\n   'recall': 0.9835820895522388,\n   'f1-score': 0.9850523168908819,\n   'support': 670},\n  '2': {'precision': 0.9556509298998569,\n   'recall': 0.9542857142857143,\n   'f1-score': 0.9549678341672623,\n   'support': 700},\n  '3': {'precision': 0.9448476052249637,\n   'recall': 0.9421128798842258,\n   'f1-score': 0.9434782608695652,\n   'support': 691},\n  'accuracy': 0.9684782608695652,\n  'macro avg': {'precision': 0.9685603475808785,\n   'recall': 0.968564555766024,\n   'f1-score': 0.9685581382634669,\n   'support': 2760},\n  'weighted avg': {'precision': 0.9684356233648951,\n   'recall': 0.9684782608695652,\n   'f1-score': 0.9684526011384162,\n   'support': 2760}})"
     },
     "execution_count": 40,
     "metadata": {},
     "output_type": "execute_result"
    }
   ],
   "source": [
    "# KNN  K=1\n",
    "from sklearn.neighbors import KNeighborsClassifier\n",
    "from sklearn.metrics import accuracy_score,confusion_matrix,classification_report,confusion_matrix\n",
    "knn = KNeighborsClassifier(n_neighbors=1)\n",
    "knn.fit(train[columns], train['priceLevel'])\n",
    "y_pred_knn = knn.predict(train[columns])\n",
    "accuracy_score(train['priceLevel'], y_pred_knn), confusion_matrix(train['priceLevel'], y_pred_knn), classification_report(train['priceLevel'], y_pred_knn, output_dict=True)"
   ]
  },
  {
   "cell_type": "code",
   "execution_count": 41,
   "id": "64afd0f5",
   "metadata": {},
   "outputs": [
    {
     "data": {
      "text/plain": "(0.7565217391304347,\n array([[140,   0,  17,   7],\n        [  7, 156,   6,  16],\n        [ 22,   7, 113,  28],\n        [ 15,  21,  22, 113]]),\n {'0': {'precision': 0.7608695652173914,\n   'recall': 0.8536585365853658,\n   'f1-score': 0.8045977011494252,\n   'support': 164},\n  '1': {'precision': 0.8478260869565217,\n   'recall': 0.8432432432432433,\n   'f1-score': 0.8455284552845529,\n   'support': 185},\n  '2': {'precision': 0.7151898734177216,\n   'recall': 0.6647058823529411,\n   'f1-score': 0.6890243902439024,\n   'support': 170},\n  '3': {'precision': 0.6890243902439024,\n   'recall': 0.6608187134502924,\n   'f1-score': 0.6746268656716418,\n   'support': 171},\n  'accuracy': 0.7565217391304347,\n  'macro avg': {'precision': 0.7532274789588843,\n   'recall': 0.7556065939079607,\n   'f1-score': 0.7534443530873806,\n   'support': 690},\n  'weighted avg': {'precision': 0.7551244695584475,\n   'recall': 0.7565217391304347,\n   'f1-score': 0.7548871414311046,\n   'support': 690}})"
     },
     "execution_count": 41,
     "metadata": {},
     "output_type": "execute_result"
    }
   ],
   "source": [
    "# test\n",
    "y_pred_knn = knn.predict(test[columns])\n",
    "accuracy_score(test['priceLevel'], y_pred_knn), confusion_matrix(test['priceLevel'], y_pred_knn), classification_report(test['priceLevel'], y_pred_knn, output_dict=True)"
   ]
  },
  {
   "cell_type": "code",
   "execution_count": 42,
   "id": "b220ea2d",
   "metadata": {},
   "outputs": [
    {
     "data": {
      "text/plain": "(0.8565217391304348,\n array([[641,   7,  37,  14],\n        [ 20, 602,   6,  42],\n        [ 64,  20, 571,  45],\n        [ 48,  44,  49, 550]]),\n {'0': {'precision': 0.8292367399741267,\n   'recall': 0.9170243204577968,\n   'f1-score': 0.8709239130434783,\n   'support': 699},\n  '1': {'precision': 0.8945022288261516,\n   'recall': 0.8985074626865671,\n   'f1-score': 0.8965003723008191,\n   'support': 670},\n  '2': {'precision': 0.861236802413273,\n   'recall': 0.8157142857142857,\n   'f1-score': 0.8378576669112253,\n   'support': 700},\n  '3': {'precision': 0.8448540706605223,\n   'recall': 0.7959479015918958,\n   'f1-score': 0.819672131147541,\n   'support': 691},\n  'accuracy': 0.8565217391304348,\n  'macro avg': {'precision': 0.8574574604685183,\n   'recall': 0.8567984926126364,\n   'f1-score': 0.8562385208507659,\n   'support': 2760},\n  'weighted avg': {'precision': 0.8571061228518654,\n   'recall': 0.8565217391304348,\n   'f1-score': 0.855914809463677,\n   'support': 2760}})"
     },
     "execution_count": 42,
     "metadata": {},
     "output_type": "execute_result"
    }
   ],
   "source": [
    "# KNN  K=3\n",
    "from sklearn.neighbors import KNeighborsClassifier\n",
    "from sklearn.metrics import accuracy_score,confusion_matrix,classification_report,confusion_matrix\n",
    "knn = KNeighborsClassifier(n_neighbors=3)\n",
    "knn.fit(train[columns], train['priceLevel'])\n",
    "y_pred_knn = knn.predict(train[columns])\n",
    "accuracy_score(train['priceLevel'], y_pred_knn), confusion_matrix(train['priceLevel'], y_pred_knn), classification_report(train['priceLevel'], y_pred_knn, output_dict=True)"
   ]
  },
  {
   "cell_type": "code",
   "execution_count": 43,
   "id": "8953ff51",
   "metadata": {},
   "outputs": [
    {
     "data": {
      "text/plain": "(0.7463768115942029,\n array([[135,   3,  22,   4],\n        [ 12, 155,   3,  15],\n        [ 25,   8, 116,  21],\n        [ 21,  22,  19, 109]]),\n {'0': {'precision': 0.6994818652849741,\n   'recall': 0.823170731707317,\n   'f1-score': 0.7563025210084034,\n   'support': 164},\n  '1': {'precision': 0.824468085106383,\n   'recall': 0.8378378378378378,\n   'f1-score': 0.8310991957104557,\n   'support': 185},\n  '2': {'precision': 0.725,\n   'recall': 0.6823529411764706,\n   'f1-score': 0.7030303030303031,\n   'support': 170},\n  '3': {'precision': 0.7315436241610739,\n   'recall': 0.6374269005847953,\n   'f1-score': 0.68125,\n   'support': 171},\n  'accuracy': 0.7463768115942029,\n  'macro avg': {'precision': 0.7451233936381078,\n   'recall': 0.7451971028266052,\n   'f1-score': 0.7429205049372906,\n   'support': 690},\n  'weighted avg': {'precision': 0.7472254802651599,\n   'recall': 0.7463768115942029,\n   'f1-score': 0.7446316900970492,\n   'support': 690}})"
     },
     "execution_count": 43,
     "metadata": {},
     "output_type": "execute_result"
    }
   ],
   "source": [
    "# test\n",
    "y_pred_knn = knn.predict(test[columns])\n",
    "accuracy_score(test['priceLevel'], y_pred_knn), confusion_matrix(test['priceLevel'], y_pred_knn), classification_report(test['priceLevel'], y_pred_knn, output_dict=True)"
   ]
  },
  {
   "cell_type": "code",
   "execution_count": 44,
   "id": "76bd2a99",
   "metadata": {},
   "outputs": [
    {
     "data": {
      "text/plain": "(0.8097826086956522,\n array([[611,   7,  63,  18],\n        [ 18, 598,   7,  47],\n        [ 89,  25, 530,  56],\n        [ 50,  72,  73, 496]]),\n {'0': {'precision': 0.7955729166666666,\n   'recall': 0.8741058655221745,\n   'f1-score': 0.8329925017041582,\n   'support': 699},\n  '1': {'precision': 0.8518518518518519,\n   'recall': 0.8925373134328358,\n   'f1-score': 0.8717201166180758,\n   'support': 670},\n  '2': {'precision': 0.787518573551263,\n   'recall': 0.7571428571428571,\n   'f1-score': 0.7720320466132558,\n   'support': 700},\n  '3': {'precision': 0.8038897893030794,\n   'recall': 0.7178002894356006,\n   'f1-score': 0.7584097859327217,\n   'support': 691},\n  'accuracy': 0.8097826086956522,\n  'macro avg': {'precision': 0.8097082828432152,\n   'recall': 0.8103965813833669,\n   'f1-score': 0.8087886127170529,\n   'support': 2760},\n  'weighted avg': {'precision': 0.809274295429367,\n   'recall': 0.8097826086956522,\n   'f1-score': 0.8082600838891691,\n   'support': 2760}})"
     },
     "execution_count": 44,
     "metadata": {},
     "output_type": "execute_result"
    }
   ],
   "source": [
    "# KNN  K=5\n",
    "from sklearn.neighbors import KNeighborsClassifier\n",
    "from sklearn.metrics import accuracy_score,confusion_matrix,classification_report,confusion_matrix\n",
    "\n",
    "knn = KNeighborsClassifier(n_neighbors=5)\n",
    "knn.fit(train[columns], train['priceLevel'])\n",
    "y_pred_knn = knn.predict(train[columns])\n",
    "accuracy_score(train['priceLevel'], y_pred_knn), confusion_matrix(train['priceLevel'], y_pred_knn), classification_report(train['priceLevel'], y_pred_knn, output_dict=True)"
   ]
  },
  {
   "cell_type": "code",
   "execution_count": 45,
   "id": "3d26e011",
   "metadata": {},
   "outputs": [
    {
     "data": {
      "text/plain": "(0.7565217391304347,\n array([[132,   3,  26,   3],\n        [  6, 160,   3,  16],\n        [ 21,   9, 123,  17],\n        [ 17,  24,  23, 107]]),\n {'0': {'precision': 0.75,\n   'recall': 0.8048780487804879,\n   'f1-score': 0.7764705882352942,\n   'support': 164},\n  '1': {'precision': 0.8163265306122449,\n   'recall': 0.8648648648648649,\n   'f1-score': 0.8398950131233596,\n   'support': 185},\n  '2': {'precision': 0.7028571428571428,\n   'recall': 0.7235294117647059,\n   'f1-score': 0.7130434782608696,\n   'support': 170},\n  '3': {'precision': 0.7482517482517482,\n   'recall': 0.6257309941520468,\n   'f1-score': 0.6815286624203821,\n   'support': 171},\n  'accuracy': 0.7565217391304347,\n  'macro avg': {'precision': 0.754358855430284,\n   'recall': 0.7547508298905263,\n   'f1-score': 0.7527344355099764,\n   'support': 690},\n  'weighted avg': {'precision': 0.7557350310145341,\n   'recall': 0.7565217391304347,\n   'f1-score': 0.7543196325748447,\n   'support': 690}})"
     },
     "execution_count": 45,
     "metadata": {},
     "output_type": "execute_result"
    }
   ],
   "source": [
    "# test\n",
    "y_pred_knn = knn.predict(test[columns])\n",
    "accuracy_score(test['priceLevel'], y_pred_knn), confusion_matrix(test['priceLevel'], y_pred_knn), classification_report(test['priceLevel'], y_pred_knn, output_dict=True)"
   ]
  },
  {
   "cell_type": "code",
   "execution_count": 46,
   "id": "a2b8d288",
   "metadata": {},
   "outputs": [
    {
     "data": {
      "text/plain": "(0.561231884057971,\n array([[347,  19, 132, 201],\n        [ 17, 452,  16, 185],\n        [106,  25, 280, 289],\n        [ 37, 108,  76, 470]]),\n {'0': {'precision': 0.6844181459566075,\n   'recall': 0.49642346208869814,\n   'f1-score': 0.5754560530679934,\n   'support': 699},\n  '1': {'precision': 0.7483443708609272,\n   'recall': 0.6746268656716418,\n   'f1-score': 0.7095761381475667,\n   'support': 670},\n  '2': {'precision': 0.5555555555555556,\n   'recall': 0.4,\n   'f1-score': 0.46511627906976744,\n   'support': 700},\n  '3': {'precision': 0.4104803493449782,\n   'recall': 0.6801736613603473,\n   'f1-score': 0.5119825708061002,\n   'support': 691},\n  'accuracy': 0.561231884057971,\n  'macro avg': {'precision': 0.5996996054295172,\n   'recall': 0.5628059972801718,\n   'f1-score': 0.5655327602728569,\n   'support': 2760},\n  'weighted avg': {'precision': 0.5986702256473764,\n   'recall': 0.561231884057971,\n   'f1-score': 0.5641380961700179,\n   'support': 2760}})"
     },
     "execution_count": 46,
     "metadata": {},
     "output_type": "execute_result"
    }
   ],
   "source": [
    "# SVM \n",
    "from sklearn.svm import SVC\n",
    "from sklearn.metrics import accuracy_score,confusion_matrix,classification_report,confusion_matrix\n",
    "\n",
    "svm = SVC()\n",
    "svm.fit(train[columns], train['priceLevel'])\n",
    "y_pred_svm = svm.predict(train[columns])\n",
    "accuracy_score(train['priceLevel'], y_pred_svm), confusion_matrix(train['priceLevel'], y_pred_svm), classification_report(train['priceLevel'], y_pred_svm, output_dict=True)"
   ]
  },
  {
   "cell_type": "code",
   "execution_count": 47,
   "id": "47de825f",
   "metadata": {},
   "outputs": [
    {
     "data": {
      "text/plain": "(0.553623188405797,\n array([[ 78,   8,  29,  49],\n        [  7, 124,   4,  50],\n        [ 25,   8,  58,  79],\n        [  8,  25,  16, 122]]),\n {'0': {'precision': 0.6610169491525424,\n   'recall': 0.47560975609756095,\n   'f1-score': 0.5531914893617021,\n   'support': 164},\n  '1': {'precision': 0.7515151515151515,\n   'recall': 0.6702702702702703,\n   'f1-score': 0.7085714285714285,\n   'support': 185},\n  '2': {'precision': 0.5420560747663551,\n   'recall': 0.3411764705882353,\n   'f1-score': 0.4187725631768953,\n   'support': 170},\n  '3': {'precision': 0.4066666666666667,\n   'recall': 0.7134502923976608,\n   'f1-score': 0.5180467091295118,\n   'support': 171},\n  'accuracy': 0.553623188405797,\n  'macro avg': {'precision': 0.5903137105251789,\n   'recall': 0.5501266973384318,\n   'f1-score': 0.5496455475598845,\n   'support': 690},\n  'weighted avg': {'precision': 0.5929371237704353,\n   'recall': 0.553623188405797,\n   'f1-score': 0.5530238283221045,\n   'support': 690}})"
     },
     "execution_count": 47,
     "metadata": {},
     "output_type": "execute_result"
    }
   ],
   "source": [
    "y_pred_svm = svm.predict(test[columns])\n",
    "accuracy_score(test['priceLevel'], y_pred_svm), confusion_matrix(test['priceLevel'], y_pred_svm), classification_report(test['priceLevel'], y_pred_svm, output_dict=True)"
   ]
  },
  {
   "attachments": {
    "image.png": {
     "image/png": "[encoded data removed]"
    }
   },
   "cell_type": "markdown",
   "id": "c6abed67",
   "metadata": {},
   "source": [
    "![image.png](attachment:image.png)"
   ]
  },
  {
   "cell_type": "code",
   "execution_count": 50,
   "id": "10b8c7d3",
   "metadata": {},
   "outputs": [
    {
     "name": "stdout",
     "output_type": "stream",
     "text": [
      "Epoch 1/30\n",
      "87/87 [==============================] - 0s 518us/step - loss: 1.3816 - accuracy: 0.2743\n",
      "Epoch 2/30\n",
      "87/87 [==============================] - 0s 473us/step - loss: 1.3736 - accuracy: 0.2634\n",
      "Epoch 3/30\n",
      "87/87 [==============================] - 0s 471us/step - loss: 1.3621 - accuracy: 0.2663\n",
      "Epoch 4/30\n",
      "87/87 [==============================] - 0s 496us/step - loss: 1.3446 - accuracy: 0.2931\n",
      "Epoch 5/30\n",
      "87/87 [==============================] - 0s 530us/step - loss: 1.3210 - accuracy: 0.3011\n",
      "Epoch 6/30\n",
      "87/87 [==============================] - 0s 507us/step - loss: 1.2943 - accuracy: 0.3598\n",
      "Epoch 7/30\n",
      "87/87 [==============================] - 0s 577us/step - loss: 1.2707 - accuracy: 0.4225\n",
      "Epoch 8/30\n",
      "87/87 [==============================] - 0s 535us/step - loss: 1.2511 - accuracy: 0.4413\n",
      "Epoch 9/30\n",
      "87/87 [==============================] - 0s 525us/step - loss: 1.2324 - accuracy: 0.4906\n",
      "Epoch 10/30\n",
      "87/87 [==============================] - 0s 524us/step - loss: 1.2141 - accuracy: 0.5007\n",
      "Epoch 11/30\n",
      "87/87 [==============================] - 0s 506us/step - loss: 1.1967 - accuracy: 0.5116\n",
      "Epoch 12/30\n",
      "87/87 [==============================] - 0s 513us/step - loss: 1.1810 - accuracy: 0.5087\n",
      "Epoch 13/30\n",
      "87/87 [==============================] - 0s 482us/step - loss: 1.1650 - accuracy: 0.5246\n",
      "Epoch 14/30\n",
      "87/87 [==============================] - 0s 482us/step - loss: 1.1516 - accuracy: 0.5264\n",
      "Epoch 15/30\n",
      "87/87 [==============================] - 0s 564us/step - loss: 1.1387 - accuracy: 0.5297\n",
      "Epoch 16/30\n",
      "87/87 [==============================] - 0s 546us/step - loss: 1.1268 - accuracy: 0.5428\n",
      "Epoch 17/30\n",
      "87/87 [==============================] - 0s 518us/step - loss: 1.1156 - accuracy: 0.5533\n",
      "Epoch 18/30\n",
      "87/87 [==============================] - 0s 540us/step - loss: 1.1050 - accuracy: 0.5551\n",
      "Epoch 19/30\n",
      "87/87 [==============================] - 0s 527us/step - loss: 1.0952 - accuracy: 0.5612\n",
      "Epoch 20/30\n",
      "87/87 [==============================] - 0s 513us/step - loss: 1.0865 - accuracy: 0.5616\n",
      "Epoch 21/30\n",
      "87/87 [==============================] - 0s 548us/step - loss: 1.0783 - accuracy: 0.5714\n",
      "Epoch 22/30\n",
      "87/87 [==============================] - 0s 534us/step - loss: 1.0703 - accuracy: 0.5772\n",
      "Epoch 23/30\n",
      "87/87 [==============================] - 0s 574us/step - loss: 1.0631 - accuracy: 0.5812\n",
      "Epoch 24/30\n",
      "87/87 [==============================] - 0s 549us/step - loss: 1.0571 - accuracy: 0.5826\n",
      "Epoch 25/30\n",
      "87/87 [==============================] - 0s 491us/step - loss: 1.0513 - accuracy: 0.5786\n",
      "Epoch 26/30\n",
      "87/87 [==============================] - 0s 495us/step - loss: 1.0449 - accuracy: 0.5783\n",
      "Epoch 27/30\n",
      "87/87 [==============================] - 0s 529us/step - loss: 1.0388 - accuracy: 0.5870\n",
      "Epoch 28/30\n",
      "87/87 [==============================] - 0s 541us/step - loss: 1.0351 - accuracy: 0.5826\n",
      "Epoch 29/30\n",
      "87/87 [==============================] - 0s 510us/step - loss: 1.0308 - accuracy: 0.5855\n",
      "Epoch 30/30\n",
      "87/87 [==============================] - 0s 526us/step - loss: 1.0261 - accuracy: 0.5880\n",
      "22/22 [==============================] - 0s 379us/step\n"
     ]
    },
    {
     "data": {
      "text/plain": "(<tf.Tensor: shape=(4, 4), dtype=int32, numpy=\n array([[ 67,   8,  44,  45],\n        [  3, 136,   4,  42],\n        [ 19,  10, 100,  41],\n        [  7,  27,  26, 111]], dtype=int32)>,\n 0.6)"
     },
     "execution_count": 50,
     "metadata": {},
     "output_type": "execute_result"
    }
   ],
   "source": [
    "# neural network classifier \n",
    "import tensorflow as tf\n",
    "\n",
    "model = tf.keras.models.Sequential([\n",
    "    tf.keras.layers.Dense(6, activation='relu'),\n",
    "    tf.keras.layers.Dense(12, activation='relu'),\n",
    "    tf.keras.layers.Dense(4, activation='softmax')\n",
    "])\n",
    "\n",
    "model.compile(optimizer='rmsprop',\n",
    "              loss='categorical_crossentropy',\n",
    "              metrics=['accuracy'])\n",
    "# make one-hot encoding for the labels using tensorflow:\n",
    "train_labels = tf.keras.utils.to_categorical(train['priceLevel'])\n",
    "test_labels = tf.keras.utils.to_categorical(test['priceLevel'])\n",
    "# train the model:\n",
    "real_model = model.fit(train[columns], train_labels, epochs=30)\n",
    "# predict:\n",
    "y_pred_nn = model.predict(test[columns])\n",
    "# print accuracy and confusion_metrics\n",
    "tf.math.confusion_matrix(test_labels.argmax(axis=1), y_pred_nn.argmax(axis=1)), accuracy_score(test_labels.argmax(axis=1), y_pred_nn.argmax(axis=1))\n",
    "\n"
   ]
  },
  {
   "cell_type": "code",
   "execution_count": 52,
   "id": "ba8f52ee",
   "metadata": {},
   "outputs": [
    {
     "data": {
      "text/plain": "<Figure size 640x480 with 1 Axes>",
      "image/png": "[encoded data removed]"
     },
     "metadata": {},
     "output_type": "display_data"
    }
   ],
   "source": [
    "# plot model history\n",
    "import matplotlib.pyplot as plt\n",
    "\n",
    "plt.plot(real_model.history['accuracy'])\n",
    "plt.plot(real_model.history['loss'])\n",
    "plt.title('model accuracy and loss')\n",
    "plt.legend(['accuracy', 'loss'], loc='upper left')\n",
    "plt.show()"
   ]
  },
  {
   "cell_type": "code",
   "execution_count": 49,
   "id": "efccc153",
   "metadata": {},
   "outputs": [],
   "source": []
  },
  {
   "cell_type": "code",
   "execution_count": 49,
   "id": "71cb5e11",
   "metadata": {},
   "outputs": [],
   "source": []
  }
 ],
 "metadata": {
  "kernelspec": {
   "display_name": "Python 3 (ipykernel)",
   "language": "python",
   "name": "python3"
  },
  "language_info": {
   "codemirror_mode": {
    "name": "ipython",
    "version": 3
   },
   "file_extension": ".py",
   "mimetype": "text/x-python",
   "name": "python",
   "nbconvert_exporter": "python",
   "pygments_lexer": "ipython3",
   "version": "3.8.10"
  }
 },
 "nbformat": 4,
 "nbformat_minor": 5
}
